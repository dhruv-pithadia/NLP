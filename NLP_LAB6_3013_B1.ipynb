{
 "cells": [
  {
   "cell_type": "markdown",
   "metadata": {},
   "source": [
    "Name: Dhruv Pithadia\n",
    "\n",
    "Roll No: R013\n",
    "\n",
    "Program: MBA Tech AI\n",
    "\n",
    "Course: Natural Language Processing\n",
    "\n",
    "Topic: Named Entity Recognition\n",
    "\n",
    "Contact: pithadia.dhruv@gmail.com"
   ]
  },
  {
   "cell_type": "code",
   "execution_count": 5,
   "metadata": {},
   "outputs": [
    {
     "name": "stdout",
     "output_type": "stream",
     "text": [
      "(S\n",
      "  (GPE Apple/NNP)\n",
      "  is/VBZ\n",
      "  looking/VBG\n",
      "  at/IN\n",
      "  buying/VBG\n",
      "  U.K./NNP\n",
      "  startup/NN\n",
      "  for/IN\n",
      "  $/$\n",
      "  1/CD\n",
      "  billion/CD\n",
      "  in/IN\n",
      "  2024/CD\n",
      "  ./.\n",
      "  (PERSON Elon/NNP Musk/NNP)\n",
      "  tweeted/VBD\n",
      "  about/IN\n",
      "  (PERSON Tesla/NNP)\n",
      "  in/IN\n",
      "  (GPE Los/NNP Angeles/NNP)\n",
      "  ./.)\n"
     ]
    },
    {
     "name": "stderr",
     "output_type": "stream",
     "text": [
      "[nltk_data] Downloading package punkt to\n",
      "[nltk_data]     /Users/dhruvpithadia/nltk_data...\n",
      "[nltk_data]   Package punkt is already up-to-date!\n",
      "[nltk_data] Downloading package maxent_ne_chunker to\n",
      "[nltk_data]     /Users/dhruvpithadia/nltk_data...\n",
      "[nltk_data]   Package maxent_ne_chunker is already up-to-date!\n",
      "[nltk_data] Downloading package words to\n",
      "[nltk_data]     /Users/dhruvpithadia/nltk_data...\n",
      "[nltk_data]   Package words is already up-to-date!\n"
     ]
    }
   ],
   "source": [
    "import nltk\n",
    "from nltk import word_tokenize, pos_tag, ne_chunk\n",
    "from nltk.corpus import conll2002\n",
    "\n",
    "# Download necessary NLTK models and datasets\n",
    "nltk.download('punkt')\n",
    "nltk.download('maxent_ne_chunker')\n",
    "nltk.download('words')\n",
    "\n",
    "# Example Text (You can replace this with your dataset)\n",
    "text = \"Apple is looking at buying U.K. startup for $1 billion in 2024. Elon Musk tweeted about Tesla in Los Angeles.\"\n",
    "\n",
    "# Tokenize and apply POS tagging\n",
    "tokens = word_tokenize(text)\n",
    "pos_tags = pos_tag(tokens)\n",
    "\n",
    "# Apply Named Entity Recognition using NLTK\n",
    "named_entities = ne_chunk(pos_tags)\n",
    "\n",
    "# Print Named Entities\n",
    "print(named_entities)"
   ]
  },
  {
   "cell_type": "code",
   "execution_count": 9,
   "metadata": {},
   "outputs": [
    {
     "name": "stdout",
     "output_type": "stream",
     "text": [
      "Sentence: John works at OpenAI in San Francisco.\n",
      "Entities: [('John', 'PERSON'), ('OpenAI', 'ORG')]\n",
      "\n",
      "\n",
      "Sentence: Elon Musk is the CEO of Tesla and SpaceX.\n",
      "Entities: [('Elon Musk', 'PERSON'), ('Tesla', 'ORG')]\n",
      "\n",
      "\n",
      "Sentence: Barack Obama was the president of the United States.\n",
      "Entities: [('Barack Obama', 'PERSON')]\n",
      "\n",
      "\n",
      "Sentence: Apple is based in Cupertino, California.\n",
      "Entities: [('Apple', 'ORG')]\n",
      "\n",
      "\n"
     ]
    }
   ],
   "source": [
    "# Define a dummy dataset\n",
    "dummy_dataset = [\n",
    "    \"John works at OpenAI in San Francisco.\",\n",
    "    \"Elon Musk is the CEO of Tesla and SpaceX.\",\n",
    "    \"Barack Obama was the president of the United States.\",\n",
    "    \"Apple is based in Cupertino, California.\"\n",
    "]\n",
    "\n",
    "# Define a dictionary of words and their entity types (NER mapping)\n",
    "ner_mapping = {\n",
    "    \"John\": \"PERSON\",\n",
    "    \"OpenAI\": \"ORG\",\n",
    "    \"San Francisco\": \"LOC\",\n",
    "    \"Elon Musk\": \"PERSON\",\n",
    "    \"Tesla\": \"ORG\",\n",
    "    \"SpaceX\": \"ORG\",\n",
    "    \"Barack Obama\": \"PERSON\",\n",
    "    \"United States\": \"LOC\",\n",
    "    \"Apple\": \"ORG\",\n",
    "    \"Cupertino\": \"LOC\",\n",
    "    \"California\": \"LOC\"\n",
    "}\n",
    "\n",
    "# Function to perform NER mapping\n",
    "def ner_mapper(sentence, ner_dict):\n",
    "    entities = []\n",
    "    words = sentence.split()  # Tokenize the sentence into words\n",
    "    for i, word in enumerate(words):\n",
    "        # Check if the word or a phrase exists in the NER dictionary\n",
    "        if word in ner_dict:\n",
    "            entities.append((word, ner_dict[word]))\n",
    "        elif i < len(words) - 1:\n",
    "            # Check for two-word phrases (e.g., 'San Francisco')\n",
    "            phrase = f\"{word} {words[i + 1]}\"\n",
    "            if phrase in ner_dict:\n",
    "                entities.append((phrase, ner_dict[phrase]))\n",
    "                continue  # Skip the next word since it's part of a phrase\n",
    "    return entities\n",
    "\n",
    "# Apply NER mapping to each sentence in the dataset\n",
    "for sentence in dummy_dataset:\n",
    "    entities = ner_mapper(sentence, ner_mapping)\n",
    "    print(f\"Sentence: {sentence}\")\n",
    "    print(f\"Entities: {entities}\")\n",
    "    print(\"\\n\")"
   ]
  }
 ],
 "metadata": {
  "kernelspec": {
   "display_name": "Python 3",
   "language": "python",
   "name": "python3"
  },
  "language_info": {
   "codemirror_mode": {
    "name": "ipython",
    "version": 3
   },
   "file_extension": ".py",
   "mimetype": "text/x-python",
   "name": "python",
   "nbconvert_exporter": "python",
   "pygments_lexer": "ipython3",
   "version": "3.12.2"
  }
 },
 "nbformat": 4,
 "nbformat_minor": 2
}
